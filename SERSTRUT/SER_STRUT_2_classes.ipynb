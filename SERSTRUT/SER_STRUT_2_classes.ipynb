{
  "cells": [
    {
      "cell_type": "code",
      "source": [
        "import lib_tree\n",
        "import ser\n",
        "import strut\n",
        "import copy\n",
        "import numpy as np\n",
        "import pandas as pd\n",
        "from sklearn.tree import DecisionTreeClassifier\n",
        "from sklearn.ensemble import RandomForestClassifier\n",
        "from sklearn.model_selection import train_test_split\n",
        "from sklearn.metrics import accuracy_score, roc_auc_score, confusion_matrix, f1_score"
      ],
      "metadata": {
        "id": "8f2v4MK-Lvhq"
      },
      "execution_count": null,
      "outputs": []
    },
    {
      "cell_type": "markdown",
      "source": [
        "## 2 classes"
      ],
      "metadata": {
        "id": "0B3UrgtDOxie"
      }
    },
    {
      "cell_type": "code",
      "source": [
        "Final_Data_S1= pd.read_csv(\"final_H358.csv\")\n",
        "Final_Data_S2= pd.read_csv(\"final_H355.csv\")\n",
        "Final_Data_S1.loc[Final_Data_S1[Final_Data_S1.labels.isin([ 2.0, 3.0,4.0])].index, 'labels']=1.0\n",
        "Final_Data_S2.loc[Final_Data_S2[Final_Data_S2.labels.isin([ 2.0, 3.0,4.0])].index, 'labels']=1.0\n",
        "ys = Final_Data_S1.labels\n",
        "Xs= Final_Data_S1.drop(['Time', 'labels'], axis=1)\n",
        "yt = Final_Data_S2.labels\n",
        "Xt= Final_Data_S2.drop(['Time', 'labels'], axis=1)\n",
        "X_train_t, X_test_t, y_train_t, y_test_t = train_test_split(Xt, yt, test_size=0.85, stratify=yt, random_state = 42)\n",
        "X_train_t = X_train_t.to_numpy()\n",
        "y_train_t= y_train_t.to_numpy()\n"
      ],
      "metadata": {
        "id": "t04nDwgpLxtb"
      },
      "execution_count": null,
      "outputs": []
    },
    {
      "cell_type": "code",
      "source": [
        "N_EST = 3\n",
        "MAX=3\n",
        "rf_or = RandomForestClassifier(n_estimators=N_EST, max_depth=MAX)\n",
        "rf_or.fit(Xs, ys)\n",
        "rftl= ser.SER_RF(rf_or, X_train_t, y_train_t, original_ser=True)\n",
        "rf_strut = strut.STRUT_RF(rf_or, X_train_t, y_train_t)"
      ],
      "metadata": {
        "id": "gTtQG_uPK000"
      },
      "execution_count": null,
      "outputs": []
    },
    {
      "cell_type": "code",
      "source": [
        "ypredMIX = np.empty(len(y_test_t))\n",
        "\n",
        "for p in range(len(y_test_t)):\n",
        "    PSER = ser.forest_posterior(rftl, np.array(X_test_t.iloc[p]).reshape(1, -1)).mean(axis=0)\n",
        "    PSTRUT = strut.forest_posterior(rf_strut, np.array(X_test_t.iloc[p]).reshape(1, -1)).mean(axis=0)\n",
        "    PMIX = np.array((PSER,PSTRUT))\n",
        "    ypredMIX[p] = np.argmax(PMIX.mean(axis=0))\n"
      ],
      "metadata": {
        "id": "Nu92rUTlQ27i"
      },
      "execution_count": null,
      "outputs": []
    },
    {
      "cell_type": "code",
      "source": [
        "mix_accuracy = accuracy_score(y_test_t, ypredMIX)\n",
        "print('mix_accuracy:', mix_accuracy)"
      ],
      "metadata": {
        "colab": {
          "base_uri": "https://localhost:8080/"
        },
        "id": "uwZayGXfT5fB",
        "outputId": "715080fa-9ac8-4d61-8fc9-f526072ca95b"
      },
      "execution_count": null,
      "outputs": [
        {
          "output_type": "stream",
          "name": "stdout",
          "text": [
            "mix_accuracy: 0.8865638766519823\n"
          ]
        }
      ]
    },
    {
      "cell_type": "code",
      "source": [
        "from sklearn.metrics import precision_recall_fscore_support as score1\n",
        "precision, recall, fscore, support = score1(y_test_t, ypredMIX)\n",
        "roc = roc_auc_score(y_test_t, ypredMIX)\n",
        "f1_weighted = f1_score( y_test_t, ypredMIX, average='weighted')\n",
        "print('weighted f1 score:', f1_weighted)\n",
        "print('precision:', precision)\n",
        "print('recall;', recall)\n",
        "print('fscore:', fscore)\n",
        "print('roc auc:', roc)\n",
        "print('support:', support)\n",
        "cm = confusion_matrix(y_test_t, ypredMIX)\n",
        "print(\"Confusion Matrix:\")\n",
        "print(cm)"
      ],
      "metadata": {
        "colab": {
          "base_uri": "https://localhost:8080/"
        },
        "id": "xGcBNI1cZooZ",
        "outputId": "3568d201-d53e-45ff-f397-1ddf30e983fe"
      },
      "execution_count": null,
      "outputs": [
        {
          "output_type": "stream",
          "name": "stdout",
          "text": [
            "weighted f1 score: 0.880175459631862\n",
            "precision: [0.88033012 0.91160221]\n",
            "recall; [0.97560976 0.6547619 ]\n",
            "fscore: [0.92552422 0.76212471]\n",
            "roc auc: 0.8151858304297328\n",
            "support: [656 252]\n",
            "Confusion Matrix:\n",
            "[[640  16]\n",
            " [ 87 165]]\n"
          ]
        }
      ]
    }
  ],
  "metadata": {
    "colab": {
      "provenance": []
    },
    "kernelspec": {
      "display_name": "Python 2",
      "language": "python",
      "name": "python2"
    },
    "language_info": {
      "codemirror_mode": {
        "name": "ipython",
        "version": 2
      },
      "file_extension": ".py",
      "mimetype": "text/x-python",
      "name": "python",
      "nbconvert_exporter": "python",
      "pygments_lexer": "ipython2",
      "version": "2.7.11"
    }
  },
  "nbformat": 4,
  "nbformat_minor": 0
}