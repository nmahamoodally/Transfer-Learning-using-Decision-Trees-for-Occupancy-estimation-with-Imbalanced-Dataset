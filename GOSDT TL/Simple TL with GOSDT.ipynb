{
 "cells": [
  {
   "cell_type": "code",
   "execution_count": 25,
   "metadata": {},
   "outputs": [],
   "source": [
    "import pandas as pd\n",
    "import numpy as np\n",
    "import pathlib\n",
    "from sklearn.ensemble import GradientBoostingClassifier\n",
    "from sklearn.model_selection import train_test_split\n",
    "from model.threshold_guess import compute_thresholds, cut\n",
    "from model.gosdt import GOSDT\n",
    "from sklearn.metrics import confusion_matrix, f1_score, accuracy_score, classification_report, precision_score, roc_auc_score\n",
    "from sklearn.metrics import precision_recall_fscore_support as score1"
   ]
  },
  {
   "cell_type": "code",
   "execution_count": null,
   "metadata": {},
   "outputs": [],
   "source": [
    "#2 classes"
   ]
  },
  {
   "cell_type": "code",
   "execution_count": 29,
   "metadata": {},
   "outputs": [],
   "source": [
    "source = pd.read_csv(\"../experiments/datasets/final_H358_.csv\")\n",
    "target = pd.read_csv(\"../experiments/datasets/final_H355_.csv\")\n",
    "source.loc[source[source.labels.isin([2.0, 3.0,4.0])].index, 'labels']=1.0\n",
    "target.loc[target[target.labels.isin([2.0, 3.0,4.0])].index, 'labels']=1.0\n",
    "ys = source.labels\n",
    "Xs= source.drop(['Time', 'labels'], axis=1)\n",
    "yt = target.labels\n",
    "Xt= target.drop(['Time', 'labels'], axis=1)\n",
    "X_train_t, X_test_t, y_train_t, y_test_t = train_test_split(Xt, yt, test_size=0.85,  stratify=yt,random_state = 42)\n"
   ]
  },
  {
   "cell_type": "code",
   "execution_count": 31,
   "metadata": {},
   "outputs": [
    {
     "name": "stdout",
     "output_type": "stream",
     "text": [
      "gosdt reported successful execution\n",
      "training completed. 0.000/0.000/0.428 (user, system, wall), mem=0 MB\n",
      "bounds: [0.079583..0.079583] (0.000000) loss=0.039583, iterations=605\n",
      "evaluate the model, extracting tree and scores\n",
      "gosdt reported successful execution\n",
      "training completed. 0.000/0.000/10.840 (user, system, wall), mem=0 MB\n",
      "bounds: [0.091250..0.091250] (0.000000) loss=0.031250, iterations=55929\n",
      "Model accuracy: 0.9383259911894273\n",
      "roc auc: 0.9267687766163376\n",
      "Weighted F1 score:  0.9385471087059268\n",
      "precision: [0.96153846 0.87984496]\n",
      "recall; [0.9527439  0.90079365]\n",
      "fscore: [0.95712098 0.89019608]\n",
      "support: [656 252]\n",
      "Confusion Matrix ser original:\n",
      "[[625  31]\n",
      " [ 25 227]]\n",
      "if 11.625 <= Power and 505.0 <= co2 then:\n",
      "    predicted class: 1\n",
      "    misclassification penalty: 0.013\n",
      "    complexity penalty: 0.02\n",
      "\n",
      "else if Power < 11.625 and 505.0 <= co2 then:\n",
      "    predicted class: 0\n",
      "    misclassification penalty: 0.019\n",
      "    complexity penalty: 0.02\n",
      "\n",
      "else if co2 < 505.0 then:\n",
      "    predicted class: 0\n",
      "    misclassification penalty: 0.0\n",
      "    complexity penalty: 0.02\n"
     ]
    }
   ],
   "source": [
    "# set GOSDT configuration\n",
    "config = {\n",
    "            \"regularization\": 0.02, # regularization penalizes the tree with more leaves. We recommend to set it to relative high value to find a sparse tree.  \n",
    "            \"depth_budget\": 6,\n",
    "            \"time_limit\": 50, # training time limit in seconds\n",
    "            \"similar_support\": False\n",
    "        }\n",
    "\n",
    "model = GOSDT(config)\n",
    "\n",
    "# train GOSDT \n",
    "model.fit(Xs, ys)\n",
    "print(\"evaluate the model, extracting tree and scores\", flush=True)\n",
    "model.fit(X_train_t, y_train_t)\n",
    "acc = model.score(X_test_t, y_test_t)\n",
    "y_pred = model.predict(X_test_t)\n",
    "\n",
    "\n",
    "precision, recall, fscore, support = score1(y_test_t, y_pred)\n",
    "roc = roc_auc_score(y_test_t, y_pred)\n",
    "f1_weighted = f1_score(y_test_t,y_pred, average='weighted')\n",
    "print(\"Model accuracy: {}\".format(acc))\n",
    "print('roc auc:', roc)\n",
    "print('Weighted F1 score: ', f1_weighted)\n",
    "print('precision:', precision)\n",
    "print('recall;', recall)\n",
    "print('fscore:', fscore)\n",
    "print('support:', support)\n",
    "cm = confusion_matrix(y_test_t, y_pred)\n",
    "print(\"Confusion Matrix ser original:\")\n",
    "print(cm)\n",
    "n_leaves = model.leaves()\n",
    "n_nodes = model.nodes()\n",
    "\n",
    "#print(\"# of leaves: {}\".format(n_leaves))\n",
    "print(model.tree)"
   ]
  },
  {
   "cell_type": "code",
   "execution_count": null,
   "metadata": {},
   "outputs": [],
   "source": [
    "#3 classes"
   ]
  },
  {
   "cell_type": "code",
   "execution_count": 23,
   "metadata": {},
   "outputs": [],
   "source": [
    "\n",
    "source = pd.read_csv(\"../experiments/datasets/final_H358_.csv\")\n",
    "target = pd.read_csv(\"../experiments/datasets/final_H355_.csv\")\n",
    "source.loc[source[source.labels.isin([ 3.0,4.0])].index, 'labels']=2.0\n",
    "target.loc[target[target.labels.isin([ 3.0,4.0])].index, 'labels']=2.0\n",
    "ys = source.labels\n",
    "Xs= source.drop(['Time', 'labels'], axis=1)\n",
    "yt = target.labels\n",
    "Xt= target.drop(['Time', 'labels'], axis=1)\n",
    "X_train_t, X_test_t, y_train_t, y_test_t = train_test_split(Xt, yt, test_size=0.85,  stratify=yt,random_state = 42)\n"
   ]
  },
  {
   "cell_type": "code",
   "execution_count": 27,
   "metadata": {},
   "outputs": [
    {
     "name": "stdout",
     "output_type": "stream",
     "text": [
      "gosdt reported possible timeout.\n",
      "training completed. -1.000/-1.000/-1.000 (user, system, wall), mem=0 MB\n",
      "bounds: [0.060000..0.181667] (0.121667) loss=0.109722, iterations=19999\n",
      "evaluate the model, extracting tree and scores\n",
      "gosdt reported possible timeout.\n",
      "training completed. -1.000/-1.000/-1.000 (user, system, wall), mem=0 MB\n",
      "bounds: [0.060000..0.196250] (0.136250) loss=0.093750, iterations=79999\n",
      "Model accuracy: 0.8303964757709251\n",
      "Weighted F1 score:  0.8300362779033952\n",
      "precision: [0.94883721 0.5530303  0.52671756]\n",
      "recall; [0.93292683 0.44785276 0.7752809 ]\n",
      "fscore: [0.94081476 0.49491525 0.62727273]\n",
      "support: [656 163  89]\n",
      "Confusion Matrix ser original:\n",
      "[[612  43   1]\n",
      " [ 29  73  61]\n",
      " [  4  16  69]]\n",
      "if 32.0 <= Power then:\n",
      "    predicted class: 2\n",
      "    misclassification penalty: 0.038\n",
      "    complexity penalty: 0.02\n",
      "\n",
      "else if 12.75 <= Power < 32.0 then:\n",
      "    predicted class: 1\n",
      "    misclassification penalty: 0.031\n",
      "    complexity penalty: 0.02\n",
      "\n",
      "else if Power < 12.75 then:\n",
      "    predicted class: 0\n",
      "    misclassification penalty: 0.025\n",
      "    complexity penalty: 0.02\n"
     ]
    }
   ],
   "source": [
    "# set GOSDT configuration\n",
    "config = {\n",
    "            \"regularization\": 0.02, # regularization penalizes the tree with more leaves. We recommend to set it to relative high value to find a sparse tree.  \n",
    "            \"depth_budget\": 6,\n",
    "            \"time_limit\": 180, # training time limit in seconds\n",
    "            \"similar_support\": False\n",
    "        }\n",
    "\n",
    "model = GOSDT(config)\n",
    "\n",
    "# train GOSDT \n",
    "model.fit(Xs, ys)\n",
    "print(\"evaluate the model, extracting tree and scores\", flush=True)\n",
    "model.fit(X_train_t, y_train_t)\n",
    "acc = model.score(X_test_t, y_test_t)\n",
    "y_pred = model.predict(X_test_t)\n",
    "\n",
    "\n",
    "precision, recall, fscore, support = score1(y_test_t, y_pred)\n",
    "f1_weighted = f1_score(y_test_t,y_pred, average='weighted')\n",
    "print(\"Model accuracy: {}\".format(acc))\n",
    "print('Weighted F1 score: ', f1_weighted)\n",
    "print('precision:', precision)\n",
    "print('recall;', recall)\n",
    "print('fscore:', fscore)\n",
    "print('support:', support)\n",
    "cm = confusion_matrix(y_test_t, y_pred)\n",
    "print(\"Confusion Matrix ser original:\")\n",
    "print(cm)\n",
    "n_leaves = model.leaves()\n",
    "n_nodes = model.nodes()\n",
    "\n",
    "#print(\"# of leaves: {}\".format(n_leaves))\n",
    "print(model.tree)"
   ]
  },
  {
   "cell_type": "code",
   "execution_count": 28,
   "metadata": {},
   "outputs": [
    {
     "name": "stdout",
     "output_type": "stream",
     "text": [
      "Micro-averaged One-vs-Rest ROC AUC score:\n",
      "0.8728\n",
      "Macro-averaged One-vs-Rest ROC AUC score:\n",
      "0.8117\n"
     ]
    },
    {
     "data": {
      "image/png": "[encoded data removed]",
      "text/plain": [
       "<Figure size 432x432 with 1 Axes>"
      ]
     },
     "metadata": {
      "needs_background": "light"
     },
     "output_type": "display_data"
    }
   ],
   "source": [
    "from sklearn.metrics import roc_curve, auc\n",
    "from sklearn.preprocessing import LabelBinarizer\n",
    "from sklearn.metrics import RocCurveDisplay\n",
    "label_binarizer = LabelBinarizer().fit(y_test_t)\n",
    "y_onehot_test = label_binarizer.transform(y_test_t)\n",
    "y_onehot_test.shape  # (n_samples, n_classes)\n",
    "label_binarizer.transform([0])\n",
    "\n",
    "import matplotlib.pyplot as plt\n",
    "\n",
    "y_pred_onehot = label_binarizer.transform(y_pred)\n",
    "\n",
    "\n",
    "\n",
    "from itertools import cycle\n",
    "\n",
    "fig, ax = plt.subplots(figsize=(6, 6))\n",
    "\n",
    "\n",
    "from sklearn.metrics import auc, roc_curve\n",
    "n_classes = 3\n",
    "# store the fpr, tpr, and roc_auc for all averaging strategies\n",
    "fpr, tpr, roc_auc = dict(), dict(), dict()\n",
    "# Compute micro-average ROC curve and ROC area\n",
    "fpr[\"micro\"], tpr[\"micro\"], _ = roc_curve(y_onehot_test.ravel(), y_pred_onehot.ravel())\n",
    "roc_auc[\"micro\"] = auc(fpr[\"micro\"], tpr[\"micro\"])\n",
    "\n",
    "print(f\"Micro-averaged One-vs-Rest ROC AUC score:\\n{roc_auc['micro']:.4f}\")\n",
    "plt.plot(\n",
    "    fpr[\"micro\"],\n",
    "    tpr[\"micro\"],\n",
    "    label=f\"micro-average ROC curve (AUC = {roc_auc['micro']:.4f})\",\n",
    "    color=\"deeppink\",\n",
    "    linestyle=\":\",\n",
    "    linewidth=4,\n",
    ")\n",
    "\n",
    "\n",
    "for i in range(n_classes):\n",
    "    fpr[i], tpr[i], _ = roc_curve(y_onehot_test[:, i], y_pred_onehot[:, i])\n",
    "    roc_auc[i] = auc(fpr[i], tpr[i])\n",
    "\n",
    "fpr_grid = np.linspace(0.0, 1.0, 1000)\n",
    "\n",
    "# Interpolate all ROC curves at these points\n",
    "mean_tpr = np.zeros_like(fpr_grid)\n",
    "\n",
    "for i in range(n_classes):\n",
    "    mean_tpr += np.interp(fpr_grid, fpr[i], tpr[i])  # linear interpolation\n",
    "\n",
    "# Average it and compute AUC\n",
    "mean_tpr /= n_classes\n",
    "\n",
    "fpr[\"macro\"] = fpr_grid\n",
    "tpr[\"macro\"] = mean_tpr\n",
    "roc_auc[\"macro\"] = auc(fpr[\"macro\"], tpr[\"macro\"])\n",
    "\n",
    "plt.plot(\n",
    "    fpr[\"macro\"],\n",
    "    tpr[\"macro\"],\n",
    "    label=f\"macro-average ROC curve (AUC = {roc_auc['macro']:.4f})\",\n",
    "    color=\"navy\",\n",
    "    linestyle=\":\",\n",
    "    linewidth=4,\n",
    ")\n",
    "\n",
    "print(f\"Macro-averaged One-vs-Rest ROC AUC score:\\n{roc_auc['macro']:.4f}\")\n",
    "colors = cycle([\"aqua\", \"darkorange\", \"cornflowerblue\"])\n",
    "for class_id, color in zip(range(3), colors):\n",
    "    RocCurveDisplay.from_predictions(\n",
    "        y_onehot_test[:, class_id],\n",
    "        y_pred_onehot[:, class_id],\n",
    "        name=f\"ROC curve for {class_id}\",\n",
    "        color=color,\n",
    "        ax=ax,\n",
    "        #plot_chance_level=(class_id == 2),\n",
    "    )\n",
    "\n",
    "plt.axis(\"square\")\n",
    "plt.xlabel(\"False Positive Rate\")\n",
    "plt.ylabel(\"True Positive Rate\")\n",
    "plt.title(\"GOSDT TL- 3 classes\")\n",
    "plt.legend()\n",
    "plt.show()"
   ]
  }
 ],
 "metadata": {
  "kernelspec": {
   "display_name": "Python 3 (ipykernel)",
   "language": "python",
   "name": "python3"
  },
  "language_info": {
   "codemirror_mode": {
    "name": "ipython",
    "version": 3
   },
   "file_extension": ".py",
   "mimetype": "text/x-python",
   "name": "python",
   "nbconvert_exporter": "python",
   "pygments_lexer": "ipython3",
   "version": "3.9.7"
  },
  "vscode": {
   "interpreter": {
    "hash": "31f2aee4e71d21fbe5cf8b01ff0e069b9275f58929596ceb00d14d90e3e16cd6"
   }
  }
 },
 "nbformat": 4,
 "nbformat_minor": 2
}
